{
 "cells": [
  {
   "cell_type": "code",
   "execution_count": 3,
   "id": "95ac8a21",
   "metadata": {},
   "outputs": [],
   "source": [
    "import numpy as np"
   ]
  },
  {
   "cell_type": "code",
   "execution_count": 4,
   "id": "44736986",
   "metadata": {},
   "outputs": [],
   "source": [
    "lista = [1,2,3,4,5]\n",
    "lista_array = np.array(lista) #per passare da lista ad array usi il costruttore \n",
    "lista\n",
    "np.array?"
   ]
  },
  {
   "cell_type": "code",
   "execution_count": 8,
   "id": "40a5812a",
   "metadata": {},
   "outputs": [
    {
     "data": {
      "text/plain": [
       "array([1, 2, 3, 4, 5])"
      ]
     },
     "execution_count": 8,
     "metadata": {},
     "output_type": "execute_result"
    }
   ],
   "source": [
    "lista_array #non è una lista, è un array numpy\n",
    "#anche per python sono oggetti diversi"
   ]
  },
  {
   "cell_type": "code",
   "execution_count": 16,
   "id": "654e4250",
   "metadata": {},
   "outputs": [
    {
     "data": {
      "text/plain": [
       "array([0, 0, 0, 0, 0, 0, 0, 0, 0, 0])"
      ]
     },
     "execution_count": 16,
     "metadata": {},
     "output_type": "execute_result"
    }
   ],
   "source": [
    "#np.zeros?per ottenere la documentazione sul metodo \n",
    "np.zeros(10, dtype=int) #array lungo 10 di tipo float di default, se lo specifichi diventa il tipo che dici\n"
   ]
  },
  {
   "cell_type": "code",
   "execution_count": 15,
   "id": "5df6b18f",
   "metadata": {},
   "outputs": [
    {
     "data": {
      "text/plain": [
       "array([[0., 0., 0., 0., 0., 0., 0., 0., 0., 0.],\n",
       "       [0., 0., 0., 0., 0., 0., 0., 0., 0., 0.],\n",
       "       [0., 0., 0., 0., 0., 0., 0., 0., 0., 0.],\n",
       "       [0., 0., 0., 0., 0., 0., 0., 0., 0., 0.],\n",
       "       [0., 0., 0., 0., 0., 0., 0., 0., 0., 0.]])"
      ]
     },
     "execution_count": 15,
     "metadata": {},
     "output_type": "execute_result"
    }
   ],
   "source": [
    "np.zeros((5,10), dtype=float) #matrice di 0, np.ones = array di 1"
   ]
  },
  {
   "cell_type": "code",
   "execution_count": 18,
   "id": "d56c2b23",
   "metadata": {},
   "outputs": [
    {
     "data": {
      "text/plain": [
       "array([[1.],\n",
       "       [1.],\n",
       "       [1.],\n",
       "       [1.],\n",
       "       [1.]])"
      ]
     },
     "execution_count": 18,
     "metadata": {},
     "output_type": "execute_result"
    }
   ],
   "source": [
    "np.ones((5,1)) #le ia imparano con dati a molte dimensioni, per es nella tesla tutto ciò che riceve finisce in una matrice "
   ]
  },
  {
   "cell_type": "code",
   "execution_count": 20,
   "id": "c93b8d2f",
   "metadata": {},
   "outputs": [
    {
     "data": {
      "text/plain": [
       "0.8569162651774506"
      ]
     },
     "execution_count": 20,
     "metadata": {},
     "output_type": "execute_result"
    }
   ],
   "source": [
    "np.random.uniform() #numeri che si comportano come casuali, ma generati da un altgorimo deterministico, anche se \n",
    "                  #apparentemente sembrano casuali\n",
    "                  #calculus, libreria che serve per calcolare derivate e integrali"
   ]
  },
  {
   "cell_type": "code",
   "execution_count": 21,
   "id": "9ae914b2",
   "metadata": {},
   "outputs": [
    {
     "data": {
      "text/plain": [
       "array([0.35094597, 0.74785007, 0.96829644, 0.17498868, 0.94792009,\n",
       "       0.60633884, 0.10628291, 0.65857833, 0.02322332, 0.48440902,\n",
       "       0.06570516, 0.38895663, 0.78122985, 0.1832536 , 0.02889259,\n",
       "       0.38782525, 0.96248079, 0.26283855, 0.5754329 , 0.65696788,\n",
       "       0.37561871, 0.36378417, 0.65131242, 0.81447668, 0.84391954,\n",
       "       0.0854793 , 0.4529255 , 0.8739773 , 0.54515697, 0.81473057,\n",
       "       0.15335993, 0.17765994, 0.44354607, 0.14687513, 0.62104104,\n",
       "       0.30431128, 0.62984414, 0.09618287, 0.03813485, 0.00902936,\n",
       "       0.17681993, 0.07404525, 0.34007986, 0.46405737, 0.42364421,\n",
       "       0.4222768 , 0.30735402, 0.3820726 , 0.90988883, 0.42274221,\n",
       "       0.6007316 , 0.62879596, 0.16679534, 0.09313881, 0.55560003,\n",
       "       0.59928566, 0.99680235, 0.4802743 , 0.63750279, 0.27644016,\n",
       "       0.21627828, 0.47686986, 0.26217962, 0.40952853, 0.30318387,\n",
       "       0.75295645, 0.75142419, 0.44992448, 0.62261093, 0.83633594,\n",
       "       0.71450905, 0.94298158, 0.63508658, 0.89897069, 0.66566165,\n",
       "       0.34038991, 0.41502156, 0.22066869, 0.03753869, 0.20427403,\n",
       "       0.42710609, 0.57559316, 0.13562871, 0.0458199 , 0.09298927,\n",
       "       0.41933452, 0.57493815, 0.18858745, 0.63517396, 0.67842234,\n",
       "       0.54452931, 0.49168017, 0.64116886, 0.31088945, 0.53010779,\n",
       "       0.17383538, 0.85090792, 0.85555596, 0.22934968, 0.10862688])"
      ]
     },
     "execution_count": 21,
     "metadata": {},
     "output_type": "execute_result"
    }
   ],
   "source": [
    "np.random.uniform(size = 100) #array di 100 numeri casuali, sempre numeri float"
   ]
  },
  {
   "cell_type": "code",
   "execution_count": 22,
   "id": "5bfcf6d7",
   "metadata": {
    "scrolled": true
   },
   "outputs": [
    {
     "data": {
      "text/plain": [
       "array([ 0.45465084, -0.4343987 , -0.16865333,  0.0952317 ,  0.67315261,\n",
       "        1.07132599,  0.91445086,  1.1003923 ,  1.13064605,  0.41708361,\n",
       "       -0.05013066, -0.24636899, -0.55183006, -0.14513691,  0.56850739,\n",
       "        1.75063998,  0.44126113,  0.46505008,  1.02077063,  0.87223767,\n",
       "        0.53617727, -0.14366229,  1.07583353, -0.81910205, -0.18453398,\n",
       "        0.61428438,  0.40381417,  0.76679608, -0.58283411, -0.26529388,\n",
       "        0.41176556, -0.09739743,  0.71271655,  1.31435083,  0.20859443,\n",
       "        0.02953095,  0.31023644,  0.50771828, -0.34830732, -0.36346554,\n",
       "        0.50580702, -0.64796809, -0.5337129 , -1.75603849,  1.28035161,\n",
       "       -1.12818773,  0.40094812,  3.35075584,  0.0796821 , -1.4811105 ,\n",
       "        0.76872604,  0.46650817,  0.15164911,  0.5310634 ,  1.61528849,\n",
       "        1.07548892,  0.38602054, -1.50548209, -0.01365035, -0.46503026,\n",
       "       -0.81781821, -0.05335077, -1.13189166,  1.15051601,  1.08784645,\n",
       "       -1.19130771,  1.84171607,  0.42834362,  1.11735089, -1.95474628,\n",
       "       -0.2739203 ,  0.27591969,  0.52003685, -0.22418606,  0.21645123,\n",
       "        0.75194673,  0.41751621,  0.4946606 , -0.28748461, -0.96565489,\n",
       "        1.25296922, -2.81705042, -0.75413897,  0.10473273,  1.55708262,\n",
       "        0.11563106,  0.05404232,  0.4324381 , -1.23976356,  0.81513626,\n",
       "       -0.56411218,  0.04788025, -0.68130379,  0.60901089, -1.13166685,\n",
       "        0.29214651,  0.02626777,  0.20091783, -0.32057407,  0.22148258])"
      ]
     },
     "execution_count": 22,
     "metadata": {},
     "output_type": "execute_result"
    }
   ],
   "source": [
    "np.random.normal(size = 100) #distribuzione gaussiana"
   ]
  },
  {
   "cell_type": "code",
   "execution_count": 5,
   "id": "57915730",
   "metadata": {
    "scrolled": true
   },
   "outputs": [],
   "source": [
    "np.random.normal(loc = 5, scale = 1, size = 100)\n",
    "np.random.normal?"
   ]
  },
  {
   "cell_type": "code",
   "execution_count": 30,
   "id": "a8aae44e",
   "metadata": {},
   "outputs": [
    {
     "name": "stderr",
     "output_type": "stream",
     "text": [
      "<ipython-input-30-7ffa12105ea3>:1: DeprecationWarning: This function is deprecated. Please call randint(1, 6 + 1) instead\n",
      "  np.random.random_integers(low=1,high=6,size=10)\n"
     ]
    },
    {
     "data": {
      "text/plain": [
       "array([4, 2, 6, 4, 5, 1, 5, 3, 2, 3])"
      ]
     },
     "execution_count": 30,
     "metadata": {},
     "output_type": "execute_result"
    }
   ],
   "source": [
    "np.random.random_integers(low=1,high=6,size=10) #simula lanci del dado, high è compreso, pure low, e sono distribuiti\n",
    "                                                #in maniera uniforme"
   ]
  },
  {
   "cell_type": "code",
   "execution_count": 49,
   "id": "a0d749a4",
   "metadata": {},
   "outputs": [
    {
     "data": {
      "text/plain": [
       "'testa'"
      ]
     },
     "execution_count": 49,
     "metadata": {},
     "output_type": "execute_result"
    }
   ],
   "source": [
    "np.random.choice([\"testa\", \"croce\"]) #estrae a caso un elemento da una lista, con size = 10 crea array con 10 elementi tirati a caso"
   ]
  },
  {
   "cell_type": "code",
   "execution_count": 50,
   "id": "5d837ab1",
   "metadata": {},
   "outputs": [],
   "source": [
    "#le diverse dimensioni degli array hanno un nome o nunìmero che è standard.\n",
    "#1d = asse 0\n",
    "#2d = asse 0 verticale(righe), asse 1 orizzontale(colonna)\n"
   ]
  },
  {
   "cell_type": "code",
   "execution_count": 55,
   "id": "e56ae9eb",
   "metadata": {},
   "outputs": [
    {
     "name": "stdout",
     "output_type": "stream",
     "text": [
      "[[0.68136828 0.6689506  0.79058944 0.63443128 0.19410437]\n",
      " [0.30233347 0.94012666 0.64083459 0.65547519 0.78369735]\n",
      " [0.76598593 0.06683784 0.82847248 0.19723207 0.31091609]\n",
      " [0.74568717 0.46684819 0.2842751  0.02032055 0.08102263]]\n"
     ]
    }
   ],
   "source": [
    "matrice = np.random.uniform(size=(4,5))\n",
    "print(matrice) #4 righe 5 colonne"
   ]
  },
  {
   "cell_type": "code",
   "execution_count": 58,
   "id": "8d36eb0a",
   "metadata": {},
   "outputs": [
    {
     "data": {
      "text/plain": [
       "20"
      ]
     },
     "execution_count": 58,
     "metadata": {},
     "output_type": "execute_result"
    }
   ],
   "source": [
    "np.shape(matrice) #ritorna una tupla con numero righe e colonne\n",
    "np.size(matrice)  #ritorna al numero di elementi dell'array"
   ]
  },
  {
   "cell_type": "code",
   "execution_count": 61,
   "id": "43d77f6f",
   "metadata": {},
   "outputs": [
    {
     "name": "stdout",
     "output_type": "stream",
     "text": [
      "(5,)\n",
      "5\n"
     ]
    }
   ],
   "source": [
    "vettore = np.array([1,2,3,4,5])\n",
    "print(np.shape(vettore))\n",
    "print(np.size(vettore))"
   ]
  },
  {
   "cell_type": "code",
   "execution_count": 64,
   "id": "6f3d08d7",
   "metadata": {},
   "outputs": [
    {
     "data": {
      "text/plain": [
       "array([0.68136828, 0.6689506 , 0.79058944, 0.63443128, 0.19410437,\n",
       "       0.30233347, 0.94012666, 0.64083459, 0.65547519, 0.78369735,\n",
       "       0.76598593, 0.06683784, 0.82847248, 0.19723207, 0.31091609,\n",
       "       0.74568717, 0.46684819, 0.2842751 , 0.02032055, 0.08102263])"
      ]
     },
     "execution_count": 64,
     "metadata": {},
     "output_type": "execute_result"
    }
   ],
   "source": [
    "matrice1 = np.ravel(matrice) #permette di trasformare matrici in array, concatenando il tutto\n",
    "matrice1 "
   ]
  },
  {
   "cell_type": "code",
   "execution_count": 65,
   "id": "fb6c4939",
   "metadata": {},
   "outputs": [
    {
     "data": {
      "text/plain": [
       "3"
      ]
     },
     "execution_count": 65,
     "metadata": {},
     "output_type": "execute_result"
    }
   ],
   "source": [
    "vettore[2] #0,1,2,3,4 -> indici"
   ]
  },
  {
   "cell_type": "code",
   "execution_count": 67,
   "id": "eae316c9",
   "metadata": {},
   "outputs": [
    {
     "name": "stdout",
     "output_type": "stream",
     "text": [
      "[0.76598593 0.06683784 0.82847248 0.19723207 0.31091609]\n",
      "0.19723206917452218\n"
     ]
    }
   ],
   "source": [
    "print(matrice[2]) #stampa la terza riga\n",
    "print(matrice[2][3]) #dstampa il 4 valore della 3 riga"
   ]
  },
  {
   "cell_type": "code",
   "execution_count": 68,
   "id": "1db63076",
   "metadata": {},
   "outputs": [
    {
     "name": "stdout",
     "output_type": "stream",
     "text": [
      "[1.11110000e+03 1.11110000e+03 1.11110000e+03 1.11110000e+03\n",
      " 1.11110000e+03 3.02333475e-01 9.40126658e-01 6.40834587e-01\n",
      " 6.55475187e-01 7.83697348e-01 7.65985932e-01 6.68378447e-02\n",
      " 8.28472483e-01 1.97232069e-01 3.10916091e-01 7.45687168e-01\n",
      " 4.66848191e-01 2.84275099e-01 2.03205508e-02 8.10226266e-02]\n"
     ]
    }
   ],
   "source": [
    "matrice[0] = 1111.1\n",
    "print(matrice1) #sia matrice che matrice1 puntano alla stessa cella, quindi se modifichi matrice verrà modificata pure matrice1, pure se modifichi matrice1 cambia matrice"
   ]
  },
  {
   "cell_type": "code",
   "execution_count": 74,
   "id": "4e67661d",
   "metadata": {},
   "outputs": [
    {
     "data": {
      "text/plain": [
       "array([[1.11110000e+03],\n",
       "       [1.11110000e+03],\n",
       "       [1.11110000e+03],\n",
       "       [1.11110000e+03],\n",
       "       [1.11110000e+03],\n",
       "       [3.02333475e-01],\n",
       "       [9.40126658e-01],\n",
       "       [6.40834587e-01],\n",
       "       [6.55475187e-01],\n",
       "       [7.83697348e-01],\n",
       "       [7.65985932e-01],\n",
       "       [6.68378447e-02],\n",
       "       [8.28472483e-01],\n",
       "       [1.97232069e-01],\n",
       "       [3.10916091e-01],\n",
       "       [7.45687168e-01],\n",
       "       [4.66848191e-01],\n",
       "       [2.84275099e-01],\n",
       "       [2.03205508e-02],\n",
       "       [8.10226266e-02]])"
      ]
     },
     "execution_count": 74,
     "metadata": {},
     "output_type": "execute_result"
    }
   ],
   "source": [
    "matrice.reshape(20,1)#ritorna un array con gli stessi dati, ma con la nuova forma passata, a patto che sia compatibile"
   ]
  },
  {
   "cell_type": "code",
   "execution_count": 75,
   "id": "c44ed1c7",
   "metadata": {},
   "outputs": [
    {
     "data": {
      "text/plain": [
       "array([[1.11110000e+03, 3.02333475e-01, 7.65985932e-01, 7.45687168e-01],\n",
       "       [1.11110000e+03, 9.40126658e-01, 6.68378447e-02, 4.66848191e-01],\n",
       "       [1.11110000e+03, 6.40834587e-01, 8.28472483e-01, 2.84275099e-01],\n",
       "       [1.11110000e+03, 6.55475187e-01, 1.97232069e-01, 2.03205508e-02],\n",
       "       [1.11110000e+03, 7.83697348e-01, 3.10916091e-01, 8.10226266e-02]])"
      ]
     },
     "execution_count": 75,
     "metadata": {},
     "output_type": "execute_result"
    }
   ],
   "source": [
    "#matrice trasposta: scambia righe e colonne\n",
    "np.transpose(matrice) #inverte righe e colonne di una matrice"
   ]
  },
  {
   "cell_type": "code",
   "execution_count": 3,
   "id": "184938cd",
   "metadata": {},
   "outputs": [
    {
     "data": {
      "text/plain": [
       "array([5, 4, 5, ..., 5, 4, 5])"
      ]
     },
     "execution_count": 3,
     "metadata": {},
     "output_type": "execute_result"
    }
   ],
   "source": [
    "#persona che lancia un dato a 6 facce, calcolare la % di 10000 lanci per quante volte esce il 6\n",
    "lanci_dado = np.random.randint(1,7,10000)\n",
    "lanci_dado1 = np.random.randint(1,7,10000)\n",
    "lanci_dado == 6 #da in output un array di buleani con true se è 6, false se è diverso\n",
    "np.count_nonzero(lanci_dado == 6)#conta gli elementi non nulli count_nonzero, mentre con == 6 conta solo i 6 (1/6)"
   ]
  },
  {
   "cell_type": "code",
   "execution_count": 144,
   "id": "ffb7b931",
   "metadata": {},
   "outputs": [
    {
     "data": {
      "text/plain": [
       "0.509"
      ]
     },
     "execution_count": 144,
     "metadata": {},
     "output_type": "execute_result"
    }
   ],
   "source": [
    "np.count_nonzero(lanci_dado >= 4) /10000"
   ]
  },
  {
   "cell_type": "code",
   "execution_count": 150,
   "id": "5bbf3fa8",
   "metadata": {},
   "outputs": [
    {
     "name": "stdout",
     "output_type": "stream",
     "text": [
      "0.1373\n",
      "0.7176\n"
     ]
    }
   ],
   "source": [
    "lanci_dado + lanci_dado1 == 8\n",
    "print(np.count_nonzero(lanci_dado + lanci_dado1 == 8) /10000)\n",
    "print(np.count_nonzero(lanci_dado + lanci_dado1 >= 6) /10000)  #somma gli array elemento per elemento gli array di lunghezza uguale"
   ]
  },
  {
   "cell_type": "code",
   "execution_count": null,
   "id": "02a503fe",
   "metadata": {},
   "outputs": [],
   "source": []
  }
 ],
 "metadata": {
  "kernelspec": {
   "display_name": "Python 3",
   "language": "python",
   "name": "python3"
  },
  "language_info": {
   "codemirror_mode": {
    "name": "ipython",
    "version": 3
   },
   "file_extension": ".py",
   "mimetype": "text/x-python",
   "name": "python",
   "nbconvert_exporter": "python",
   "pygments_lexer": "ipython3",
   "version": "3.8.8"
  }
 },
 "nbformat": 4,
 "nbformat_minor": 5
}
