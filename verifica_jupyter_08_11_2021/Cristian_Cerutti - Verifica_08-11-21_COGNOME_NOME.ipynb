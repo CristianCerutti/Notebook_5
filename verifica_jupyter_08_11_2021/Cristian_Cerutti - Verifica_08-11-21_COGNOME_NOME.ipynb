{
 "cells": [
  {
   "cell_type": "markdown",
   "id": "58c15881",
   "metadata": {},
   "source": [
    "# COGNOME e NOME"
   ]
  },
  {
   "cell_type": "markdown",
   "id": "fa2ae6b5",
   "metadata": {},
   "source": [
    "# Esercizio 1\n",
    "Ogni giorno tu e un tuo compagno vi giocate la merenda giornaliera lanciando due dadi a sei facce. Ogni giorno, la merenda è tua se dopo un certo numero `n_lanci` di lanci dei due dadi esce un valore maggiore o uguale a 10. Supponendo 200 giorni di scuola totali, scrivi una funzione che:\n",
    "- faccia uso di della libreria `numpy`;\n",
    "- abbia `n_lanci` come parametro;\n",
    "- restituisca il numero totale di giorni in cui vinci tu la merenda, simulando i lanci dei dadi per i 200 giorni di scuola.\n",
    "\n",
    "**[BONUS]** Quanto deve valere `n_lanci` affinchè il gioco sia equo?\n",
    "\n",
    "# Esercizio 2\n",
    "Creare un notebook jupyter che a partire dal testo contenuto nel file ___\"J_Verne_girodelmondoin80giorni.txt\"___:\n",
    "\n",
    "1. crei un dizionario delle frequenze per ciascun carattere (**line feed escluso**); \n",
    "2. crei il dizionario delle adiacenze per ciascun carattere (**line feed escluso**);\n",
    "3. **[FACOLTATIVO]** crei un indice dei capitoli. Ogni capitolo inizia riportando il numero romano del capitolo e il suo titolo in questo modo:\n",
    "\n",
    ">CAPITOLO XXIX.\n",
    ">\n",
    ">Nel quale si narrano cose che capitano unicamente sulle ferrovie\n",
    ">americane.\n"
   ]
  },
  {
   "cell_type": "code",
   "execution_count": 35,
   "id": "aaed45ce",
   "metadata": {},
   "outputs": [],
   "source": [
    "import numpy as np\n",
    "import csv"
   ]
  },
  {
   "cell_type": "code",
   "execution_count": 34,
   "id": "d14edbca",
   "metadata": {},
   "outputs": [],
   "source": [
    "#esercizio 1\n",
    "def lanciTot(n_lanci):\n",
    "    vittorie = 0\n",
    "    for _ in range(200):\n",
    "        lista_dado1 = np.random.randint(1,7,n_lanci)\n",
    "        lista_dado2 = np.random.randint(1,7,n_lanci)\n",
    "        lista_somme = lista_dado1 + lista_dado2\n",
    "        if np.count_nonzero(lista_somme >= 10):\n",
    "            vittorie +=1\n",
    "    return vittorie"
   ]
  },
  {
   "cell_type": "code",
   "execution_count": 5,
   "id": "e2aa43f0",
   "metadata": {},
   "outputs": [
    {
     "name": "stdout",
     "output_type": "stream",
     "text": [
      "{'I': 916, 'L': 498, 'G': 590, 'R': 169, 'O': 231, 'D': 231, 'E': 532, 'M': 422, 'N': 329, 'T': 189, 'A': 632, 'U': 145, 'V': 157, 'F': 1178, 'S': 665, ',': 6381, 'â': 3288, '€': 3288, '”': 896, '=': 2, 'Q': 192, 'u': 10152, 'i': 32215, 'n': 22842, 'd': 11885, 'c': 12687, 'e': 36940, 's': 18049, 'm': 8352, 'o': 29700, 'g': 8240, 'l': 20506, 'a': 37759, '.': 4127, '_': 858, 'p': 8380, 'r': 21059, 't': 19567, 'Ã': 2822, '¨': 607, 'v': 7140, '\\xa0': 526, '™': 1877, 'C': 550, '1': 104, '9': 15, '4': 29, 'P': 639, 'q': 1741, 'h': 3337, 'b': 3738, '8': 33, '7': 28, '2': 73, '-': 311, 'w': 116, 'B': 250, '¬': 431, '[': 16, ']': 16, '¹': 349, 'f': 3205, 'z': 2363, 'y': 254, 'k': 181, '²': 840, '?': 360, ';': 179, '!': 595, 'J': 48, 'œ': 267, 'ž': 248, '©': 4, 'H': 137, ':': 158, 'K': 112, '(': 45, '3': 28, '5': 46, ')': 45, 'ˆ': 52, '0': 107, 'Y': 83, '6': 14, 'x': 291, '/': 2, 'X': 57, 'j': 42, '®': 1, 'Z': 3, '´': 8, 'ª': 2, '¡': 2, 'W': 20, 'Â': 2, 'º': 2}\n"
     ]
    }
   ],
   "source": [
    "#esercizio 2\n",
    "file = open(\"Cristian Cerutti - J_Verne_girodelmondoin80giorni.txt\").read()\n",
    "file = file.replace(\"\\n\", \" \")\n",
    "file = file.split(\" \")\n",
    "diz = {}\n",
    "diz2 = {}\n",
    "for parola in file:\n",
    "    if parola == \"\":\n",
    "        continue\n",
    "    for carattere in parola:\n",
    "        if carattere not in diz:\n",
    "            diz[carattere] = 1\n",
    "        else:\n",
    "            diz[carattere] += 1\n",
    "print(diz) #dizionario frequenze\n",
    "\n",
    "cont = 0    \n",
    "for parola in file:\n",
    "    if parola == \"\":\n",
    "        continue\n",
    "    else:\n",
    "        for carattere in parola:\n",
    "            if carattere not in diz2:\n",
    "                diz2[carattere] = \"  \"\n",
    "            else:\n",
    "                pass\n",
    "                #diz2[carattere] = parola[]\n",
    "    #print(diz2) #dizionario adiacenze\n",
    "#capitoli tot: 13\n",
    "cont = 0\n",
    "for parola in file:\n",
    "    if parola == \"\":\n",
    "        continue\n",
    "    else: \n",
    "        if parola == \"CAPITOLO\":\n",
    "            cont +=1\n",
    "    #print(cont)"
   ]
  },
  {
   "cell_type": "code",
   "execution_count": 7,
   "id": "192919ce",
   "metadata": {},
   "outputs": [
    {
     "name": "stdout",
     "output_type": "stream",
     "text": [
      "{}\n"
     ]
    }
   ],
   "source": [
    "#correzione es 2\n",
    "#es2\n",
    "f = open(\"Cristian Cerutti - J_Verne_girodelmondoin80giorni.txt\",\"r\")\n",
    "\n",
    "frequenze = {}\n",
    "\n",
    "testo = f.read()\n",
    "f.close()\n",
    "testo = testo.replace(\"\\n\", \" \")\n",
    "\n",
    "for lettera in testo:\n",
    "    if lettera in frequenze.items():\n",
    "        frequenze[lettera] = testo.count(lettera)\n",
    "\n",
    "print (frequenze)"
   ]
  }
 ],
 "metadata": {
  "kernelspec": {
   "display_name": "Python 3",
   "language": "python",
   "name": "python3"
  },
  "language_info": {
   "codemirror_mode": {
    "name": "ipython",
    "version": 3
   },
   "file_extension": ".py",
   "mimetype": "text/x-python",
   "name": "python",
   "nbconvert_exporter": "python",
   "pygments_lexer": "ipython3",
   "version": "3.8.8"
  }
 },
 "nbformat": 4,
 "nbformat_minor": 5
}
