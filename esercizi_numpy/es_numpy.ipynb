{
 "cells": [
  {
   "cell_type": "code",
   "execution_count": 35,
   "id": "c5acdb43",
   "metadata": {},
   "outputs": [
    {
     "name": "stdout",
     "output_type": "stream",
     "text": [
      "[10  9  8  7  6  5  4  3  2  1]\n"
     ]
    }
   ],
   "source": [
    "import numpy as np\n",
    "\n",
    "lista = [1, 2, 3, 4, 5, 6, 7, 8, 9, 10]\n",
    "array = np.array(lista)\n",
    "lunghezza = int(np.size(array))\n",
    "for n in range(lunghezza//2):\n",
    "    temp = array[n]\n",
    "    array[n] = array[lunghezza-n-1] #-1 perché size parte da 1\n",
    "    array[lunghezza-n-1] = temp\n",
    "print(array)"
   ]
  },
  {
   "cell_type": "code",
   "execution_count": null,
   "id": "0e68e6a0",
   "metadata": {},
   "outputs": [],
   "source": [
    "lista_array = []\n",
    "numdiv = 0\n",
    "isPrimo = True\n",
    "for n in range(100):\n",
    "    for m in range(2, n):\n",
    "        while isPrimo:\n",
    "            if n+1 % m+1 == 0:\n",
    "                isPrimo = False\n",
    "            else:\n",
    "                isPrimo = True\n",
    "    if isPrimo:\n",
    "        lista_array.append(n)\n",
    "print(lista_array)"
   ]
  },
  {
   "cell_type": "code",
   "execution_count": 82,
   "id": "e59a290f",
   "metadata": {},
   "outputs": [
    {
     "name": "stdout",
     "output_type": "stream",
     "text": [
      "[ 1  1  2  3  5  8 13 21 34 55]\n"
     ]
    }
   ],
   "source": [
    "lista_array2 = []\n",
    "def SerieDiFibonacci(num1, num2, cont1, cont2):\n",
    "    lista_array2.append(num1)\n",
    "    num3 = num1 +num2           \n",
    "    num1 = num2\n",
    "    num2 = num3\n",
    "    if(cont1<cont2):            #condizione per evitare un loop\n",
    "        cont1 = cont1+1         #si incrementa il contatore\n",
    "        SerieDiFibonacci(num1,num2,cont1,cont2)   #richiamo ricorsivo della funzione  \n",
    "SerieDiFibonacci(1,1,0,9)\n",
    "array2 = np.array(lista_array2)\n",
    "print(array2)"
   ]
  }
 ],
 "metadata": {
  "kernelspec": {
   "display_name": "Python 3",
   "language": "python",
   "name": "python3"
  },
  "language_info": {
   "codemirror_mode": {
    "name": "ipython",
    "version": 3
   },
   "file_extension": ".py",
   "mimetype": "text/x-python",
   "name": "python",
   "nbconvert_exporter": "python",
   "pygments_lexer": "ipython3",
   "version": "3.8.8"
  }
 },
 "nbformat": 4,
 "nbformat_minor": 5
}
