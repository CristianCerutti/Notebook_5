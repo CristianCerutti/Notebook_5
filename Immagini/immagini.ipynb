{
 "cells": [
  {
   "cell_type": "markdown",
   "id": "398578f6",
   "metadata": {},
   "source": [
    "JPEG usa algoritmi per i pixel, quindi perde qualità, poi ci sono i formati vettoriali, usati nella stampa, nel formato vett usi l'istruzione \"in quel punto c'è una linea, in quello c'è un cerchio\" e così via, molto pesanti, poi i tipi raster/bitmap sono matrici dove ogni valore indica il colore del pixel che deve assumere.\n",
    "ci sono immagini in tonalità di grigi, che vanno dal bianco al nero, ogni stato del pixel è un numero (da 0 a 255, solitamente, dipende dalla risoluzione del colore, 0 = nero, 255 = bianco, i valori in mezzo sono grigi).\n",
    "altro formato è RGB (Red, Green, Blue), con questi tre colori componi ogni colore, ogni pixel è composto da 3 valori (0,0,0 = nero/ 255/255/255 = bianco).\n",
    "HSV (tonalità, saturazione, intensità), altro formato usato dai grafici.\n",
    "quindi un immagine in genere è una matrice, dove ogni pixel = tre numeri, quindi per noi sarà un array numpy tridimensionale, gli immagini in scala di grigi sono una matrice sola.\n",
    "opencv, libreria che permette il computer vision\n",
    "\n",
    "per installare: pip install opencv-python poi import mod2 per vedere se va"
   ]
  }
 ],
 "metadata": {
  "kernelspec": {
   "display_name": "Python 3",
   "language": "python",
   "name": "python3"
  },
  "language_info": {
   "codemirror_mode": {
    "name": "ipython",
    "version": 3
   },
   "file_extension": ".py",
   "mimetype": "text/x-python",
   "name": "python",
   "nbconvert_exporter": "python",
   "pygments_lexer": "ipython3",
   "version": "3.8.8"
  }
 },
 "nbformat": 4,
 "nbformat_minor": 5
}
