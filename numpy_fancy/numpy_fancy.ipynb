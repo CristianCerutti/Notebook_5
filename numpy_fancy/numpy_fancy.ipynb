{
 "cells": [
  {
   "cell_type": "code",
   "execution_count": 112,
   "id": "6ee5bd84",
   "metadata": {},
   "outputs": [],
   "source": [
    "import numpy as np"
   ]
  },
  {
   "cell_type": "code",
   "execution_count": 12,
   "id": "cf8bc096",
   "metadata": {},
   "outputs": [],
   "source": [
    "a = np.array([1,2,3,4,5,6])\n"
   ]
  },
  {
   "cell_type": "code",
   "execution_count": 16,
   "id": "6a5e3650",
   "metadata": {},
   "outputs": [
    {
     "data": {
      "text/plain": [
       "array([5, 5, 5, 5, 5, 5])"
      ]
     },
     "execution_count": 16,
     "metadata": {},
     "output_type": "execute_result"
    }
   ],
   "source": [
    "a[...] = 5   #assegna 5 a tutti gli elementi dell'array\n",
    "a"
   ]
  },
  {
   "cell_type": "code",
   "execution_count": 21,
   "id": "f333f24d",
   "metadata": {},
   "outputs": [
    {
     "data": {
      "text/plain": [
       "array([ 5,  5, 99, 99, 99,  5])"
      ]
     },
     "execution_count": 21,
     "metadata": {},
     "output_type": "execute_result"
    }
   ],
   "source": [
    "b = a[2:5]\n",
    "b[...] = 99   #b punta ad a, quindi modificato b viene modificato a, b è una view di a\n",
    "a"
   ]
  },
  {
   "cell_type": "code",
   "execution_count": 23,
   "id": "8970f958",
   "metadata": {},
   "outputs": [
    {
     "data": {
      "text/plain": [
       "True"
      ]
     },
     "execution_count": 23,
     "metadata": {},
     "output_type": "execute_result"
    }
   ],
   "source": [
    "b.base is a #per vedere se b è linkato ad a"
   ]
  },
  {
   "cell_type": "code",
   "execution_count": 30,
   "id": "7f2ebc3d",
   "metadata": {},
   "outputs": [
    {
     "data": {
      "text/plain": [
       "False"
      ]
     },
     "execution_count": 30,
     "metadata": {},
     "output_type": "execute_result"
    }
   ],
   "source": [
    "c = a\n",
    "c.base is a\n"
   ]
  },
  {
   "cell_type": "markdown",
   "id": "9ad166f3",
   "metadata": {},
   "source": [
    "## FANCY INDEXING\n",
    "quando si usa l'indicizzazione fancy si creano coppie "
   ]
  },
  {
   "cell_type": "code",
   "execution_count": 32,
   "id": "2faec45f",
   "metadata": {},
   "outputs": [
    {
     "data": {
      "text/plain": [
       "array([1, 2, 3, 4, 5, 6])"
      ]
     },
     "execution_count": 32,
     "metadata": {},
     "output_type": "execute_result"
    }
   ],
   "source": [
    "a = np.array([1,2,3,4,5,6])\n",
    "a"
   ]
  },
  {
   "cell_type": "code",
   "execution_count": 39,
   "id": "0d3d75d3",
   "metadata": {},
   "outputs": [
    {
     "data": {
      "text/plain": [
       "False"
      ]
     },
     "execution_count": 39,
     "metadata": {},
     "output_type": "execute_result"
    }
   ],
   "source": [
    "b = a[[True,False,True,False,True,False]]\n",
    "b.base is a"
   ]
  },
  {
   "cell_type": "markdown",
   "id": "7737929c",
   "metadata": {},
   "source": [
    "## esempio"
   ]
  },
  {
   "cell_type": "code",
   "execution_count": 46,
   "id": "0e0c9093",
   "metadata": {},
   "outputs": [
    {
     "name": "stdout",
     "output_type": "stream",
     "text": [
      "[5 3 6 4 6 1 3 5 5 2]\n",
      "[3 2 6 5 2 6 4 5 6 2]\n"
     ]
    }
   ],
   "source": [
    "dadoAlice = np.random.randint(1,7,10)\n",
    "dadoBob = np.random.randint(1,7,10)\n",
    "print(dadoAlice)\n",
    "print(dadoBob)"
   ]
  },
  {
   "cell_type": "code",
   "execution_count": 52,
   "id": "d4c8fbcb",
   "metadata": {},
   "outputs": [
    {
     "data": {
      "text/plain": [
       "False"
      ]
     },
     "execution_count": 52,
     "metadata": {},
     "output_type": "execute_result"
    }
   ],
   "source": [
    "dado_vittorie_alice = dadoalice[dadoAlice > dadoBob]   #alice> bob è array di buleni, indicizzando il dadoalice trovi i numeri vincenti\n",
    "dado_vittorie_alice.base is dadoAlice    #dado_vittorie_alice è una copia"
   ]
  },
  {
   "cell_type": "code",
   "execution_count": 56,
   "id": "dea949b5",
   "metadata": {},
   "outputs": [
    {
     "data": {
      "text/plain": [
       "array([3, 5, 6])"
      ]
     },
     "execution_count": 56,
     "metadata": {},
     "output_type": "execute_result"
    }
   ],
   "source": [
    "a = np.array([1,2,3,4,5,6])\n",
    "b = a[[2,4,5]]  #invertendo l'ordine ti da i numeri al contrario, molto utile\n",
    "b"
   ]
  },
  {
   "cell_type": "code",
   "execution_count": 73,
   "id": "be2f51ce",
   "metadata": {},
   "outputs": [
    {
     "name": "stdout",
     "output_type": "stream",
     "text": [
      "8\n",
      "[3 6 9]\n",
      "[[ 1  2 11]\n",
      " [ 4  5 11]\n",
      " [ 7  8 11]]\n"
     ]
    }
   ],
   "source": [
    "mat = np.array([[1,2,3],[4,5,6],[7,8,9]])\n",
    "print(mat[2][1])\n",
    "print(mat[:,2]) #ottieni terza colonna\n",
    "terza_colonna = mat[:,2]\n",
    "terza_colonna[...] = 11  #così crei una view, non copia\n",
    "print(mat)"
   ]
  },
  {
   "cell_type": "code",
   "execution_count": 79,
   "id": "48ac5350",
   "metadata": {},
   "outputs": [
    {
     "data": {
      "text/plain": [
       "array([[0, 0, 0, 1, 1, 0, 0, 0, 0, 1],\n",
       "       [0, 1, 0, 1, 1, 0, 0, 0, 0, 0],\n",
       "       [0, 0, 1, 1, 0, 1, 0, 1, 1, 0],\n",
       "       [1, 1, 1, 1, 1, 1, 0, 0, 0, 1],\n",
       "       [0, 0, 1, 1, 1, 1, 0, 0, 0, 1],\n",
       "       [0, 1, 1, 1, 1, 0, 1, 1, 0, 1],\n",
       "       [1, 0, 0, 0, 1, 1, 0, 0, 0, 0],\n",
       "       [0, 0, 1, 0, 0, 0, 1, 1, 1, 1],\n",
       "       [0, 1, 0, 0, 1, 0, 1, 0, 1, 1],\n",
       "       [1, 1, 0, 1, 0, 1, 0, 0, 0, 0]])"
      ]
     },
     "execution_count": 79,
     "metadata": {},
     "output_type": "execute_result"
    }
   ],
   "source": [
    "mat2 = np.random.randint(0,2,size=(10,10))\n",
    "mat2"
   ]
  },
  {
   "cell_type": "code",
   "execution_count": 111,
   "id": "b718ffcc",
   "metadata": {},
   "outputs": [
    {
     "data": {
      "text/plain": [
       "array([[19, 52, 89, 77, 99, 19, 69, 47, 80,  2],\n",
       "       [48,  0,  0,  1,  1,  0,  0,  0,  0, 59],\n",
       "       [81,  0,  1,  1,  0,  1,  0,  1,  1, 28],\n",
       "       [ 6,  0,  1,  1,  1,  1,  0,  0,  0, 48],\n",
       "       [ 6,  0,  1,  1,  1,  1,  0,  0,  0, 22],\n",
       "       [67,  0,  1,  1,  1,  0,  1,  1,  0, 98],\n",
       "       [95,  0,  0,  0,  1,  1,  0,  0,  0, 52],\n",
       "       [38,  0,  1,  0,  0,  0,  1,  1,  1, 33],\n",
       "       [94,  0,  0,  0,  1,  0,  1,  0,  1, 30],\n",
       "       [88, 55, 54, 89, 92, 65, 55, 50, 44, 79]])"
      ]
     },
     "execution_count": 111,
     "metadata": {},
     "output_type": "execute_result"
    }
   ],
   "source": [
    "mat2[:,0] = np.random.randint(0,100,10)\n",
    "mat2[:,9] = np.random.randint(0,100,10)\n",
    "mat2[0,:] = np.random.randint(0,100,10)\n",
    "mat2[9,:] = np.random.randint(0,100,10)\n",
    "mat2"
   ]
  }
 ],
 "metadata": {
  "kernelspec": {
   "display_name": "Python 3",
   "language": "python",
   "name": "python3"
  },
  "language_info": {
   "codemirror_mode": {
    "name": "ipython",
    "version": 3
   },
   "file_extension": ".py",
   "mimetype": "text/x-python",
   "name": "python",
   "nbconvert_exporter": "python",
   "pygments_lexer": "ipython3",
   "version": "3.8.8"
  }
 },
 "nbformat": 4,
 "nbformat_minor": 5
}
