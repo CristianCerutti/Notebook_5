{
 "cells": [
  {
   "cell_type": "code",
   "execution_count": 1,
   "id": "5d72889a",
   "metadata": {},
   "outputs": [],
   "source": [
    "import numpy as np"
   ]
  },
  {
   "cell_type": "code",
   "execution_count": 12,
   "id": "d0692636",
   "metadata": {},
   "outputs": [
    {
     "data": {
      "text/plain": [
       "array([ 1,  4,  9, 16], dtype=int32)"
      ]
     },
     "execution_count": 12,
     "metadata": {},
     "output_type": "execute_result"
    }
   ],
   "source": [
    "a = np.array([1,2,3,4])\n",
    "b = np.array([5,6,7,8])\n",
    "np.concatenate((a,b))  #concatena due array\n",
    "a+b #somma elemento per elemento\n",
    "a*b #moltiplica elemento per elemento\n",
    "a**2 #eleva elemento per elemento al quadrato\n"
   ]
  },
  {
   "cell_type": "code",
   "execution_count": 16,
   "id": "34f696c2",
   "metadata": {},
   "outputs": [
    {
     "data": {
      "text/plain": [
       "array([False,  True, False,  True])"
      ]
     },
     "execution_count": 16,
     "metadata": {},
     "output_type": "execute_result"
    }
   ],
   "source": [
    "a**2+b/3 #funziona anche con operazioni complesse, DEVONO ESSERE LUNGHI UGUALI\n",
    "a%2 == 0 #buleani"
   ]
  },
  {
   "cell_type": "code",
   "execution_count": 24,
   "id": "def65990",
   "metadata": {},
   "outputs": [
    {
     "data": {
      "text/plain": [
       "False"
      ]
     },
     "execution_count": 24,
     "metadata": {},
     "output_type": "execute_result"
    }
   ],
   "source": [
    "def isPrime(n):\n",
    "    for i in range(2,int((np.sqrt(n)+1))):\n",
    "        if n%i == 0:\n",
    "            return False\n",
    "    return True\n",
    "\n",
    "isPrime(8)"
   ]
  },
  {
   "cell_type": "code",
   "execution_count": 40,
   "id": "7fa3edf4",
   "metadata": {},
   "outputs": [
    {
     "data": {
      "text/plain": [
       "array([ 2,  3,  5,  7, 11, 13, 17, 19, 23, 29])"
      ]
     },
     "execution_count": 40,
     "metadata": {},
     "output_type": "execute_result"
    }
   ],
   "source": [
    "c = np.arange(2,30)\n",
    "c\n",
    "c**3 #elevamento a potenza universal function\n",
    "#metodo 1:\n",
    "for num in c:\n",
    "    pass\n",
    "    #print(isPrime(num)) \n",
    "#metodo 2:\n",
    "isPrime_v = np.vectorize(isPrime)   #vettorizza funzione, adesso funziona con gli array, la fa eseguire elemento per elemento\n",
    "isPrime_v(c)\n",
    "c[isPrime_v(c)]"
   ]
  },
  {
   "cell_type": "code",
   "execution_count": 3,
   "id": "e780060f",
   "metadata": {},
   "outputs": [
    {
     "data": {
      "text/plain": [
       "inf"
      ]
     },
     "execution_count": 3,
     "metadata": {},
     "output_type": "execute_result"
    }
   ],
   "source": [
    "np.ones(shape=(10,10))*8  #moltiplica per 8 elemento per elemento\n",
    "np.pi      #pi greco\n",
    "a = np.infty   #infinito\n",
    "a"
   ]
  }
 ],
 "metadata": {
  "kernelspec": {
   "display_name": "Python 3",
   "language": "python",
   "name": "python3"
  },
  "language_info": {
   "codemirror_mode": {
    "name": "ipython",
    "version": 3
   },
   "file_extension": ".py",
   "mimetype": "text/x-python",
   "name": "python",
   "nbconvert_exporter": "python",
   "pygments_lexer": "ipython3",
   "version": "3.8.8"
  }
 },
 "nbformat": 4,
 "nbformat_minor": 5
}
